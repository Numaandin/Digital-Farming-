{
 "cells": [
  {
   "cell_type": "code",
   "execution_count": 1,
   "metadata": {},
   "outputs": [],
   "source": [
    "from bs4 import BeautifulSoup as soup\n",
    "import requests\n",
    "import urllib\n",
    "import os"
   ]
  },
  {
   "cell_type": "code",
   "execution_count": 2,
   "metadata": {},
   "outputs": [],
   "source": [
    "page_soup = soup(requests.get('https://www.slideshare.net/KirillEremenko/deep-learning-az-convolutional-neural-networks-cnn-module-2').content, 'html.parser')"
   ]
  },
  {
   "cell_type": "code",
   "execution_count": 3,
   "metadata": {},
   "outputs": [],
   "source": [
    "p1 = page_soup.find('div', class_ = 'notranslate transcript add-padding-right j-transcript')"
   ]
  },
  {
   "cell_type": "code",
   "execution_count": 8,
   "metadata": {},
   "outputs": [],
   "source": [
    "import requests\n",
    "for i in p1.findAll('a'):\n",
    "    url = i.get('href')\n",
    "    with open('{}.jpg'.format(i.text.strip()), 'wb') as handle:\n",
    "            response = requests.get(url, stream=True)\n",
    "\n",
    "            if not response.ok:\n",
    "                print(response)\n",
    "\n",
    "            for block in response.iter_content(1024):\n",
    "                if not block:\n",
    "                    break\n",
    "\n",
    "                handle.write(block)"
   ]
  },
  {
   "cell_type": "code",
   "execution_count": 10,
   "metadata": {},
   "outputs": [],
   "source": [
    "from fpdf import FPDF\n",
    "from PIL import Image\n",
    "def makePdf(pdfFileName, listPages, dir = ''):\n",
    "    if (dir):\n",
    "        dir += \"/\"\n",
    "\n",
    "    cover = Image.open(dir + str(listPages[0]) + \".jpg\")\n",
    "    width, height = cover.size\n",
    "\n",
    "    pdf = FPDF(unit = \"pt\", format = [width, height])\n",
    "\n",
    "    for page in listPages:\n",
    "        pdf.add_page()\n",
    "        pdf.image(dir + str(page) + \".jpg\", 0, 0)\n",
    "\n",
    "    pdf.output(dir + pdfFileName + \".pdf\", \"F\")"
   ]
  },
  {
   "cell_type": "code",
   "execution_count": 2,
   "metadata": {},
   "outputs": [],
   "source": [
    "import os\n",
    "image_list = []\n",
    "for i in os.listdir(\"C:/Users/INFO-DSK-02/Desktop/AI_Farming/CNn/\"):\n",
    "    image_path = 'C:/Users/INFO-DSK-02/Desktop/AI_Farming/CNn/' + i\n",
    "    image_list.append(image_path)"
   ]
  },
  {
   "cell_type": "code",
   "execution_count": 11,
   "metadata": {},
   "outputs": [],
   "source": [
    "image_list = [f'C:/Users/INFO-DSK-02/Desktop/AI_Farming/CNn/{i}..jpg' for i in range(2,111)]"
   ]
  },
  {
   "cell_type": "code",
   "execution_count": 12,
   "metadata": {},
   "outputs": [
    {
     "data": {
      "text/plain": [
       "['C:/Users/INFO-DSK-02/Desktop/AI_Farming/CNn/2..jpg',\n",
       " 'C:/Users/INFO-DSK-02/Desktop/AI_Farming/CNn/3..jpg',\n",
       " 'C:/Users/INFO-DSK-02/Desktop/AI_Farming/CNn/4..jpg',\n",
       " 'C:/Users/INFO-DSK-02/Desktop/AI_Farming/CNn/5..jpg',\n",
       " 'C:/Users/INFO-DSK-02/Desktop/AI_Farming/CNn/6..jpg',\n",
       " 'C:/Users/INFO-DSK-02/Desktop/AI_Farming/CNn/7..jpg',\n",
       " 'C:/Users/INFO-DSK-02/Desktop/AI_Farming/CNn/8..jpg',\n",
       " 'C:/Users/INFO-DSK-02/Desktop/AI_Farming/CNn/9..jpg',\n",
       " 'C:/Users/INFO-DSK-02/Desktop/AI_Farming/CNn/10..jpg',\n",
       " 'C:/Users/INFO-DSK-02/Desktop/AI_Farming/CNn/11..jpg',\n",
       " 'C:/Users/INFO-DSK-02/Desktop/AI_Farming/CNn/12..jpg',\n",
       " 'C:/Users/INFO-DSK-02/Desktop/AI_Farming/CNn/13..jpg',\n",
       " 'C:/Users/INFO-DSK-02/Desktop/AI_Farming/CNn/14..jpg',\n",
       " 'C:/Users/INFO-DSK-02/Desktop/AI_Farming/CNn/15..jpg',\n",
       " 'C:/Users/INFO-DSK-02/Desktop/AI_Farming/CNn/16..jpg',\n",
       " 'C:/Users/INFO-DSK-02/Desktop/AI_Farming/CNn/17..jpg',\n",
       " 'C:/Users/INFO-DSK-02/Desktop/AI_Farming/CNn/18..jpg',\n",
       " 'C:/Users/INFO-DSK-02/Desktop/AI_Farming/CNn/19..jpg',\n",
       " 'C:/Users/INFO-DSK-02/Desktop/AI_Farming/CNn/20..jpg',\n",
       " 'C:/Users/INFO-DSK-02/Desktop/AI_Farming/CNn/21..jpg',\n",
       " 'C:/Users/INFO-DSK-02/Desktop/AI_Farming/CNn/22..jpg',\n",
       " 'C:/Users/INFO-DSK-02/Desktop/AI_Farming/CNn/23..jpg',\n",
       " 'C:/Users/INFO-DSK-02/Desktop/AI_Farming/CNn/24..jpg',\n",
       " 'C:/Users/INFO-DSK-02/Desktop/AI_Farming/CNn/25..jpg',\n",
       " 'C:/Users/INFO-DSK-02/Desktop/AI_Farming/CNn/26..jpg',\n",
       " 'C:/Users/INFO-DSK-02/Desktop/AI_Farming/CNn/27..jpg',\n",
       " 'C:/Users/INFO-DSK-02/Desktop/AI_Farming/CNn/28..jpg',\n",
       " 'C:/Users/INFO-DSK-02/Desktop/AI_Farming/CNn/29..jpg',\n",
       " 'C:/Users/INFO-DSK-02/Desktop/AI_Farming/CNn/30..jpg',\n",
       " 'C:/Users/INFO-DSK-02/Desktop/AI_Farming/CNn/31..jpg',\n",
       " 'C:/Users/INFO-DSK-02/Desktop/AI_Farming/CNn/32..jpg',\n",
       " 'C:/Users/INFO-DSK-02/Desktop/AI_Farming/CNn/33..jpg',\n",
       " 'C:/Users/INFO-DSK-02/Desktop/AI_Farming/CNn/34..jpg',\n",
       " 'C:/Users/INFO-DSK-02/Desktop/AI_Farming/CNn/35..jpg',\n",
       " 'C:/Users/INFO-DSK-02/Desktop/AI_Farming/CNn/36..jpg',\n",
       " 'C:/Users/INFO-DSK-02/Desktop/AI_Farming/CNn/37..jpg',\n",
       " 'C:/Users/INFO-DSK-02/Desktop/AI_Farming/CNn/38..jpg',\n",
       " 'C:/Users/INFO-DSK-02/Desktop/AI_Farming/CNn/39..jpg',\n",
       " 'C:/Users/INFO-DSK-02/Desktop/AI_Farming/CNn/40..jpg',\n",
       " 'C:/Users/INFO-DSK-02/Desktop/AI_Farming/CNn/41..jpg',\n",
       " 'C:/Users/INFO-DSK-02/Desktop/AI_Farming/CNn/42..jpg',\n",
       " 'C:/Users/INFO-DSK-02/Desktop/AI_Farming/CNn/43..jpg',\n",
       " 'C:/Users/INFO-DSK-02/Desktop/AI_Farming/CNn/44..jpg',\n",
       " 'C:/Users/INFO-DSK-02/Desktop/AI_Farming/CNn/45..jpg',\n",
       " 'C:/Users/INFO-DSK-02/Desktop/AI_Farming/CNn/46..jpg',\n",
       " 'C:/Users/INFO-DSK-02/Desktop/AI_Farming/CNn/47..jpg',\n",
       " 'C:/Users/INFO-DSK-02/Desktop/AI_Farming/CNn/48..jpg',\n",
       " 'C:/Users/INFO-DSK-02/Desktop/AI_Farming/CNn/49..jpg',\n",
       " 'C:/Users/INFO-DSK-02/Desktop/AI_Farming/CNn/50..jpg',\n",
       " 'C:/Users/INFO-DSK-02/Desktop/AI_Farming/CNn/51..jpg',\n",
       " 'C:/Users/INFO-DSK-02/Desktop/AI_Farming/CNn/52..jpg',\n",
       " 'C:/Users/INFO-DSK-02/Desktop/AI_Farming/CNn/53..jpg',\n",
       " 'C:/Users/INFO-DSK-02/Desktop/AI_Farming/CNn/54..jpg',\n",
       " 'C:/Users/INFO-DSK-02/Desktop/AI_Farming/CNn/55..jpg',\n",
       " 'C:/Users/INFO-DSK-02/Desktop/AI_Farming/CNn/56..jpg',\n",
       " 'C:/Users/INFO-DSK-02/Desktop/AI_Farming/CNn/57..jpg',\n",
       " 'C:/Users/INFO-DSK-02/Desktop/AI_Farming/CNn/58..jpg',\n",
       " 'C:/Users/INFO-DSK-02/Desktop/AI_Farming/CNn/59..jpg',\n",
       " 'C:/Users/INFO-DSK-02/Desktop/AI_Farming/CNn/60..jpg',\n",
       " 'C:/Users/INFO-DSK-02/Desktop/AI_Farming/CNn/61..jpg',\n",
       " 'C:/Users/INFO-DSK-02/Desktop/AI_Farming/CNn/62..jpg',\n",
       " 'C:/Users/INFO-DSK-02/Desktop/AI_Farming/CNn/63..jpg',\n",
       " 'C:/Users/INFO-DSK-02/Desktop/AI_Farming/CNn/64..jpg',\n",
       " 'C:/Users/INFO-DSK-02/Desktop/AI_Farming/CNn/65..jpg',\n",
       " 'C:/Users/INFO-DSK-02/Desktop/AI_Farming/CNn/66..jpg',\n",
       " 'C:/Users/INFO-DSK-02/Desktop/AI_Farming/CNn/67..jpg',\n",
       " 'C:/Users/INFO-DSK-02/Desktop/AI_Farming/CNn/68..jpg',\n",
       " 'C:/Users/INFO-DSK-02/Desktop/AI_Farming/CNn/69..jpg',\n",
       " 'C:/Users/INFO-DSK-02/Desktop/AI_Farming/CNn/70..jpg',\n",
       " 'C:/Users/INFO-DSK-02/Desktop/AI_Farming/CNn/71..jpg',\n",
       " 'C:/Users/INFO-DSK-02/Desktop/AI_Farming/CNn/72..jpg',\n",
       " 'C:/Users/INFO-DSK-02/Desktop/AI_Farming/CNn/73..jpg',\n",
       " 'C:/Users/INFO-DSK-02/Desktop/AI_Farming/CNn/74..jpg',\n",
       " 'C:/Users/INFO-DSK-02/Desktop/AI_Farming/CNn/75..jpg',\n",
       " 'C:/Users/INFO-DSK-02/Desktop/AI_Farming/CNn/76..jpg',\n",
       " 'C:/Users/INFO-DSK-02/Desktop/AI_Farming/CNn/77..jpg',\n",
       " 'C:/Users/INFO-DSK-02/Desktop/AI_Farming/CNn/78..jpg',\n",
       " 'C:/Users/INFO-DSK-02/Desktop/AI_Farming/CNn/79..jpg',\n",
       " 'C:/Users/INFO-DSK-02/Desktop/AI_Farming/CNn/80..jpg',\n",
       " 'C:/Users/INFO-DSK-02/Desktop/AI_Farming/CNn/81..jpg',\n",
       " 'C:/Users/INFO-DSK-02/Desktop/AI_Farming/CNn/82..jpg',\n",
       " 'C:/Users/INFO-DSK-02/Desktop/AI_Farming/CNn/83..jpg',\n",
       " 'C:/Users/INFO-DSK-02/Desktop/AI_Farming/CNn/84..jpg',\n",
       " 'C:/Users/INFO-DSK-02/Desktop/AI_Farming/CNn/85..jpg',\n",
       " 'C:/Users/INFO-DSK-02/Desktop/AI_Farming/CNn/86..jpg',\n",
       " 'C:/Users/INFO-DSK-02/Desktop/AI_Farming/CNn/87..jpg',\n",
       " 'C:/Users/INFO-DSK-02/Desktop/AI_Farming/CNn/88..jpg',\n",
       " 'C:/Users/INFO-DSK-02/Desktop/AI_Farming/CNn/89..jpg',\n",
       " 'C:/Users/INFO-DSK-02/Desktop/AI_Farming/CNn/90..jpg',\n",
       " 'C:/Users/INFO-DSK-02/Desktop/AI_Farming/CNn/91..jpg',\n",
       " 'C:/Users/INFO-DSK-02/Desktop/AI_Farming/CNn/92..jpg',\n",
       " 'C:/Users/INFO-DSK-02/Desktop/AI_Farming/CNn/93..jpg',\n",
       " 'C:/Users/INFO-DSK-02/Desktop/AI_Farming/CNn/94..jpg',\n",
       " 'C:/Users/INFO-DSK-02/Desktop/AI_Farming/CNn/95..jpg',\n",
       " 'C:/Users/INFO-DSK-02/Desktop/AI_Farming/CNn/96..jpg',\n",
       " 'C:/Users/INFO-DSK-02/Desktop/AI_Farming/CNn/97..jpg',\n",
       " 'C:/Users/INFO-DSK-02/Desktop/AI_Farming/CNn/98..jpg',\n",
       " 'C:/Users/INFO-DSK-02/Desktop/AI_Farming/CNn/99..jpg',\n",
       " 'C:/Users/INFO-DSK-02/Desktop/AI_Farming/CNn/100..jpg',\n",
       " 'C:/Users/INFO-DSK-02/Desktop/AI_Farming/CNn/101..jpg',\n",
       " 'C:/Users/INFO-DSK-02/Desktop/AI_Farming/CNn/102..jpg',\n",
       " 'C:/Users/INFO-DSK-02/Desktop/AI_Farming/CNn/103..jpg',\n",
       " 'C:/Users/INFO-DSK-02/Desktop/AI_Farming/CNn/104..jpg',\n",
       " 'C:/Users/INFO-DSK-02/Desktop/AI_Farming/CNn/105..jpg',\n",
       " 'C:/Users/INFO-DSK-02/Desktop/AI_Farming/CNn/106..jpg',\n",
       " 'C:/Users/INFO-DSK-02/Desktop/AI_Farming/CNn/107..jpg',\n",
       " 'C:/Users/INFO-DSK-02/Desktop/AI_Farming/CNn/108..jpg',\n",
       " 'C:/Users/INFO-DSK-02/Desktop/AI_Farming/CNn/109..jpg',\n",
       " 'C:/Users/INFO-DSK-02/Desktop/AI_Farming/CNn/110..jpg']"
      ]
     },
     "execution_count": 12,
     "metadata": {},
     "output_type": "execute_result"
    }
   ],
   "source": [
    "image_list"
   ]
  },
  {
   "cell_type": "code",
   "execution_count": 16,
   "metadata": {},
   "outputs": [
    {
     "data": {
      "text/plain": [
       "''"
      ]
     },
     "execution_count": 16,
     "metadata": {},
     "output_type": "execute_result"
    }
   ],
   "source": [
    "from fpdf import FPDF\n",
    "pdf = FPDF()\n",
    "# imagelist is the list with all image filenames\n",
    "for image in image_list:\n",
    "    pdf.add_page()\n",
    "    pdf.image(image, 25,50,100,70)\n",
    "pdf.output(\"yourfile.pdf\", \"F\")"
   ]
  }
 ],
 "metadata": {
  "kernelspec": {
   "display_name": "Python 3",
   "language": "python",
   "name": "python3"
  },
  "language_info": {
   "codemirror_mode": {
    "name": "ipython",
    "version": 3
   },
   "file_extension": ".py",
   "mimetype": "text/x-python",
   "name": "python",
   "nbconvert_exporter": "python",
   "pygments_lexer": "ipython3",
   "version": "3.7.1"
  }
 },
 "nbformat": 4,
 "nbformat_minor": 2
}
